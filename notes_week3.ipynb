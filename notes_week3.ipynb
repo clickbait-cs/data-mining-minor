{
 "cells": [
  {
   "cell_type": "code",
   "execution_count": 27,
   "id": "14a41893",
   "metadata": {},
   "outputs": [
    {
     "name": "stdout",
     "output_type": "stream",
     "text": [
      "<class 'pandas.core.frame.DataFrame'>\n",
      "RangeIndex: 33 entries, 0 to 32\n",
      "Data columns (total 1 columns):\n",
      " #   Column  Non-Null Count  Dtype \n",
      "---  ------  --------------  ----- \n",
      " 0   Column  33 non-null     object\n",
      "dtypes: object(1)\n",
      "memory usage: 396.0+ bytes\n",
      "testSet1: [1 2 3 4 5]\n",
      "\n",
      "testSet2: [10 20 30 40 50]\n",
      "\n"
     ]
    }
   ],
   "source": [
    "import pandas as pd\n",
    "import numpy as np\n",
    "import matplotlib.pyplot as plt\n",
    "\n",
    "\n",
    "#Loading the data + checking if it is loaded correctly\n",
    "data = \"https://raw.githubusercontent.com/clickbait-cs/data-mining-minor/refs/heads/main/wdbc.data\"\n",
    "data = pd.DataFrame({'Column': [1,'id','diagnosis', 'radius_mean','texture_mean','perimeter_mean','area_mean','smoothness_mean','compactness_mean','concavity_mean','concave points_mean','symmetry_mean','fractal_dimension_mean','radius_se','texture_se','perimeter_se','area_se','smoothness_se','compactness_se','concavity_se','concave points_se','symmetry_se','fractal_dimension_se','radius_worst','texture_worst','perimeter_worst','area_worst','smoothness_worst','compactness_worst','concavity_worst','concave points_worst','symmetry_worst','fractal_dimension_worst']})\n",
    "data.info()\n",
    "\n",
    "\n",
    "#CleanDF = rawDF.drop(columns=[0]) #Dropping the ID column\n",
    "#CleanDF.read()\n",
    "\n",
    "#print('Counts:')\n",
    "#print(rawDF['diagnosis'].value_counts())\n",
    "#print('\\nProportions:')\n",
    "#print(rawDF['Diagnosis'].value_counts(normalize=True))\n",
    "\n",
    "def normalize(x):\n",
    "    return (x-min(x)) / (max(x)-min(x))\n",
    "\n",
    "testSet1 = np.arange(1,6)\n",
    "testSet2 = np.arange(1,6)*10\n",
    "\n",
    "print(f'testSet1: {testSet1}\\n')\n",
    "print(f'testSet2: {testSet2}\\n')\n",
    "\n",
    "#excluded = ['diagnosis']\n",
    "#X = cleanDF.drop(excluded, axis=1)\n",
    "#X = X.apply(normalize, axis=0)"
   ]
  }
 ],
 "metadata": {
  "kernelspec": {
   "display_name": "Python 3",
   "language": "python",
   "name": "python3"
  },
  "language_info": {
   "codemirror_mode": {
    "name": "ipython",
    "version": 3
   },
   "file_extension": ".py",
   "mimetype": "text/x-python",
   "name": "python",
   "nbconvert_exporter": "python",
   "pygments_lexer": "ipython3",
   "version": "3.12.1"
  }
 },
 "nbformat": 4,
 "nbformat_minor": 5
}
