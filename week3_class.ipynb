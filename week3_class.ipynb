{
 "cells": [
  {
   "cell_type": "code",
   "execution_count": 2,
   "id": "092ea71b",
   "metadata": {},
   "outputs": [],
   "source": [
    "import pandas as pd\n",
    "import numpy as np\n",
    "from sklearn.model_selection import train_test_split\n",
    "\n",
    "#import data\n",
    "url = \"https://raw.githubusercontent.com/businessdatasolutions/courses/main/data%20mining/gitbook/datasets/breastcancer.csv\"\n",
    "rawDF = pd.read_csv(url)\n",
    "\n",
    "#rawDF.info()\n"
   ]
  },
  {
   "cell_type": "code",
   "execution_count": 3,
   "id": "3f6f957c",
   "metadata": {},
   "outputs": [
    {
     "name": "stdout",
     "output_type": "stream",
     "text": [
      "testSet1: [1 2 3 4 5]\n",
      "\n",
      "testSet2: [10 20 30 40 50]\n",
      "\n",
      "Normalized testSet1: [0.   0.25 0.5  0.75 1.  ]\n",
      "\n",
      "Normalized testSet2: [0.   0.25 0.5  0.75 1.  ]\n",
      "\n"
     ]
    }
   ],
   "source": [
    "cleanDF = rawDF.drop(['id'], axis=1)\n",
    "#cleanDF.head()\n",
    "\n",
    "cntDiag = cleanDF['diagnosis'].value_counts()\n",
    "propDiag = cleanDF['diagnosis'].value_counts(normalize=True)\n",
    "\n",
    "#print(cntDiag)      #print the counts of each diagnosis\n",
    "#print(propDiag)     #print the proportions of each diagnosis\n",
    "\n",
    "cleanDF[['radius_mean','area_mean','smoothness_mean']].describe()       #summary statistics of selected features\n",
    "\n",
    "def normalize(x):\n",
    "    return (x - np.min(x)) / (\n",
    "        np.max(x) - np.min(x)\n",
    "        ) #min-max normalization\n",
    "\n",
    "testSet1 = np.arange(1,6)\n",
    "testSet2 = np.arange(1,6)*10\n",
    "\n",
    "print(f'testSet1: {testSet1}\\n')\n",
    "print(f'testSet2: {testSet2}\\n')\n",
    "print(f'Normalized testSet1: {normalize(testSet1)}\\n')\n",
    "print(f'Normalized testSet2: {normalize(testSet2)}\\n')\n",
    "\n",
    "excluded = ['diagnosis'] #list of columns to exclude\n",
    "#X = cleanDF.loc[:, ~cleanDF.columns.isin(excluded)]\n",
    "X = cleanDF.drop(excluded, axis=1)\n",
    "X - X.apply(normalize, axis=0)\n",
    "X[['radius_mean','area_mean','smoothness_mean']].describe()  #summary statistics of selected features after normalization\n",
    "\n",
    "y=cleanDF['diagnosis']\n",
    "X_train, X_test, y_train, y_test = train_test_split(X, y, test_size=0.3, random_state=42)\n",
    "                \n"
   ]
  },
  {
   "cell_type": "code",
   "execution_count": null,
   "id": "f323b8c2",
   "metadata": {},
   "outputs": [
    {
     "ename": "NameError",
     "evalue": "name 'KneighborsClassifier' is not defined",
     "output_type": "error",
     "traceback": [
      "\u001b[31m---------------------------------------------------------------------------\u001b[39m",
      "\u001b[31mNameError\u001b[39m                                 Traceback (most recent call last)",
      "\u001b[36mCell\u001b[39m\u001b[36m \u001b[39m\u001b[32mIn[6]\u001b[39m\u001b[32m, line 1\u001b[39m\n\u001b[32m----> \u001b[39m\u001b[32m1\u001b[39m knn = \u001b[43mKneighborsClassifier\u001b[49m(n_neighbors=\u001b[32m5\u001b[39m)\n\u001b[32m      2\u001b[39m \u001b[38;5;66;03m#knn.fit(X_train.iloc[:, :15], y_train)\u001b[39;00m\n\u001b[32m      4\u001b[39m y_pred = knn.predict(X_test.iloc[:, :\u001b[32m15\u001b[39m])\n",
      "\u001b[31mNameError\u001b[39m: name 'KneighborsClassifier' is not defined"
     ]
    }
   ],
   "source": [
    "knn = KneighborsClassifier(n_neighbors=5)\n",
    "knn.fit(X_train.iloc[:, :15], y_train)\n",
    "\n",
    "y_pred = knn.predict(X_test.iloc[:, :15])\n",
    "\n",
    "cm = confusion_matrix(y_test, y_pred, labels=knn.classes_)\n",
    "disp = ConfusionMatrixDisplay(confusion_matrix=cm, display_labels=knn.classes_)\n",
    "disp.plot()"
   ]
  }
 ],
 "metadata": {
  "kernelspec": {
   "display_name": "Python 3",
   "language": "python",
   "name": "python3"
  },
  "language_info": {
   "codemirror_mode": {
    "name": "ipython",
    "version": 3
   },
   "file_extension": ".py",
   "mimetype": "text/x-python",
   "name": "python",
   "nbconvert_exporter": "python",
   "pygments_lexer": "ipython3",
   "version": "3.12.1"
  }
 },
 "nbformat": 4,
 "nbformat_minor": 5
}
